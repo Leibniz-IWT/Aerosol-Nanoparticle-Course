{
 "cells": [
  {
   "cell_type": "markdown",
   "id": "3d23b88f",
   "metadata": {},
   "source": [
    "# Simulating dynamic models in Python\n",
    "\n",
    "In general, many dynamic models encountered in engineering can be discretised into a system of differential algebraic equations (DAE) of the form:\n",
    "\n",
    "\\begin{equation}\n",
    "\\begin{aligned}\n",
    "\\frac{d \\textbf{x}}{d t} & =\\textbf{f}(\\textbf{x}, \\textbf{y}, t) \\\\\n",
    "0 & =\\textbf{g}(\\textbf{y}, \\textbf{x},  t)\n",
    "\\end{aligned}\n",
    "\\end{equation}\n",
    "\n",
    "with the initial conditions $\\textbf{x}(t_0) = x_0$ and $\\textbf{y}(t_0) = y_0$. In general this system can be simulated with a `for` or `while` loop with the following three steps each loop:\n",
    "\n",
    "1. Solve the system of algebraic equations $0 =g(\\textbf{y}, \\textbf{x}, t)$ for $\\textbf{y}$ at the current timestep $t$ using $\\textbf{x}=\\textbf{x}(t)$.\n",
    "1. Compute $\\textbf{f}(\\textbf{x}, \\textbf{y}, t)$.\n",
    "1. Add the solution $\\textbf{f}$ to an _integrator_ (e.g. Euler, Runge-Kutta family of methods etc.) to advance the system for a timestep $\\Delta t$.\n",
    "\n",
    "When the timestep $\\Delta t$ is small enough many dynamic simulations without singularities will converge using simple numerical methods. \n",
    "\n",
    "The code block below is a template of the simplest python loop using a forward Euler method: \n",
    "```python\n",
    "t_f = 10  # Simulate for 10 seconds of time\n",
    "dt = 0.1  # The timestep in seconds\n",
    "t = 0  # Set initial time equal to 0 s\n",
    "x = [1.5, 2, ..., 1]  # Set the initial x vector equal to x_0\n",
    "y = [1, 0.5, ..., 0]  # Set the initial y vector equal to y_0\n",
    "x_sol = []  # List of solutions at each time step\n",
    "y_sol = []  # Usually this is not needed as it can be reconstructed from x, t\n",
    "t_sol = []  # List of time steps at each solution\n",
    "\n",
    "# Start main while/for loop:\n",
    "while t < t_f:\n",
    "    # 1. (solver) Solve algebraic equations 0 = g(y, x, t) \n",
    "    # using analytical solutions, iterative methods or a solver \n",
    "    # such as scipy.optimize.fsolve\n",
    "    y = ...  # New solution vector\n",
    "    # 2. Compute f(x, y, t):\n",
    "    f = ...  # solve the system with current x, y, t\n",
    "    dxdt = f  # \n",
    "    # 3. (integrator) Advance the time of the (Eulerian step):\n",
    "    x = x + dxdt * dt  # Advance the system using forward Euler step of the simulation\n",
    "    t += dt  # Advance the time\n",
    "    # Save the solutions:\n",
    "    x_sol.append(x), y_sol.append(y), t_sol.append(t)\n",
    "```\n",
    "\n",
    "In steady-state systems the independent variable $t$ is often replaced with another variable such as reactor volume $V$.\n",
    "\n"
   ]
  },
  {
   "cell_type": "code",
   "execution_count": 1,
   "id": "618b5492",
   "metadata": {},
   "outputs": [],
   "source": [
    "# Basic imports \n",
    "import numpy as np\n",
    "import scipy.optimize\n",
    "import matplotlib.pyplot as plt"
   ]
  },
  {
   "cell_type": "markdown",
   "id": "342063ee",
   "metadata": {},
   "source": [
    "## Example tank flow system\n",
    "\n",
    "We will use the following example from [AP Monitor](http://apmonitor.com/che263/index.php/Main/PythonDynamicSim) in order to demonstrate the three steps outlined above:\n",
    "\n",
    "Example 1: A system of two tanks have the following differential equations that relates the inlet flow to the height of the tanks:\n",
    "$$\n",
    "A_c \\frac{d h_1}{d t}=q_{\\text {in }}-q_{\\text {out } 1} \\quad A_c \\frac{d h_2}{d t}=q_{\\text {out } 1}-q_{\\text {out } 2}\n",
    "$$\n",
    "The system has two algebraic equations for the height dependent outlet flow rate according to Bernoulli's equation for each tank:\n",
    "\n",
    "$$q_{\\text {out } 1}=c_1 \\sqrt{h_1} \\quad q_{\\text {out2 }}=c_2 \\sqrt{h_2}$$\n",
    "\n",
    "Both tanks are initially empty when the inlet to the first starts to flow at a rate of $0.5 \\mathrm{~m}^3 / \\mathrm{h}$."
   ]
  },
  {
   "attachments": {},
   "cell_type": "markdown",
   "id": "efcf1355",
   "metadata": {},
   "source": [
    "<img src=\"ant_ii_ex_.svg\"  width=\"240\">"
   ]
  },
  {
   "cell_type": "markdown",
   "id": "5bac1173",
   "metadata": {},
   "source": [
    "###  Restate the problem in standard format\n",
    "\n",
    "\n",
    "First we start with the algebraic equations:\n",
    "\n",
    "\\begin{equation}\n",
    "\\begin{aligned}\n",
    "q_{\\text {out } 1}=c_1 \\sqrt{h_1} \\\\\n",
    "q_{\\text {out2 }}=c_2 \\sqrt{h_2}\n",
    "\\end{aligned}\n",
    "\\end{equation}\n",
    "\n",
    "We need to put this into the format\n",
    "\n",
    "\\begin{equation}\n",
    "\\begin{aligned}\n",
    "0 & =\\textbf{g}(\\textbf{y}, \\textbf{x}, t)\n",
    "\\end{aligned}\n",
    "\\end{equation}\n",
    "\n",
    "First we replace the notation for the differential variables which are $x_1 = h_1$ and $x_2 = h_2$ and the algebriac variables  $y_1 = q_{\\text {out } 1}$ and $y_2 = q_{\\text {out } 2}$:\n",
    "\n",
    "\\begin{equation}\n",
    "\\begin{aligned}\n",
    "y_1=c_1 \\sqrt{x_1} \\\\\n",
    "y_2=c_2 \\sqrt{x_2}\n",
    "\\end{aligned}\n",
    "\\end{equation}\n",
    "\n",
    "Note that standard solvers usually need the algebraic equations to zero:\n",
    "\n",
    "\\begin{equation}\n",
    "\\begin{aligned}\n",
    "0 = c_1 \\sqrt{x_1} - y_1 \\\\\n",
    "0 = c_2 \\sqrt{x_2} - y_2\n",
    "\\end{aligned}\n",
    "\\end{equation}\n",
    "\n"
   ]
  },
  {
   "cell_type": "markdown",
   "id": "c8c74db7",
   "metadata": {},
   "source": [
    "\n",
    "\n",
    "\n",
    "Next, we transform the differential equations into our notation:\n",
    "\n",
    "\\begin{equation}\n",
    "\\begin{aligned}\n",
    "A_c \\frac{d h_1}{d t}=q_{\\text {in }}-q_{\\text {out } 1} \\\\\n",
    " A_c \\frac{d h_2}{d t}=q_{\\text {out } 1}-q_{\\text {out } 2}\n",
    "\\end{aligned}\n",
    "\\end{equation}\n",
    "\n",
    "becomes:\n",
    "\n",
    "\\begin{equation}\n",
    "\\begin{aligned}\n",
    " \\frac{d x_1}{d t}=\\frac{q_{\\text {in }}-y_1}{A_c} \\\\\n",
    " \\frac{d x_2}{d t}=\\frac{y_1 - y_2}{A_c}\n",
    "\\end{aligned}\n",
    "\\end{equation}\n",
    "\n",
    "Where $q_{\\text {in} }$ is called an input to the system and $A_c$, $c_1$ and $c_2$ are constant parameters. The overall system is then \n"
   ]
  },
  {
   "cell_type": "markdown",
   "id": "6805a424",
   "metadata": {},
   "source": [
    "\n",
    "\\begin{equation}\n",
    "\\begin{aligned}\n",
    " \\frac{d x_1}{d t} & = f_1(\\textbf{x}, \\textbf{y}, t) = \\frac{q_{\\text {in }}-y_1}{A_c} \\\\\n",
    " \\frac{d x_2}{d t} & = f_1(\\textbf{x}, \\textbf{y}, t) = \\frac{y_1 - y_2}{A_c} \\\\\n",
    "0 & = g_1(\\textbf{x}, \\textbf{y}, t) = c_1 \\sqrt{x_1} - y_1 \\\\\n",
    "0 & = g_2(\\textbf{x}, \\textbf{y}, t) = c_2 \\sqrt{x_2} - y_2\n",
    "\\end{aligned}\n",
    "\\end{equation}\n",
    "\n",
    "with initial conditions:\n",
    "$$ x_1 (t=0) = x_2(t=0) = y_1(t=0) = y_2(t=0) = 0$$\n",
    "\n",
    "In our example we will make the tank inflow time depedent so that \n",
    "\n",
    "$$\n",
    "q_{in} = \n",
    "     \\begin{cases}\n",
    "       &   0.5  &, t \\leq 4 \\\\\n",
    "                 &  0  &, t > 4\n",
    "     \\end{cases}\n",
    "$$\n",
    "\n",
    "In code this is simply:"
   ]
  },
  {
   "cell_type": "code",
   "execution_count": 2,
   "id": "dbdc994e",
   "metadata": {},
   "outputs": [],
   "source": [
    "def q_in(t):  # Flow rate into first tank m^3 /h\n",
    "    if t <= 4:\n",
    "        return 0.5  # m^3/h\n",
    "    elif t > 4:\n",
    "        return 0.0  # m^3/h\n",
    "        "
   ]
  },
  {
   "cell_type": "markdown",
   "id": "7f784e8e",
   "metadata": {},
   "source": [
    "## 1. Solving algrebraic equations\n",
    "\n",
    "While the equations in this problem statement have exact analytical solutions, we will show how to solve any general system of equations when it is written in standard form $0  =\\textbf{g}(\\textbf{y}, \\textbf{x},  t)$ using a numerical equation solver like [scipy.optimize.fsolve](https://docs.scipy.org/doc/scipy/reference/generated/scipy.optimize.fsolve.html):\n",
    "\n",
    "\n"
   ]
  },
  {
   "cell_type": "code",
   "execution_count": 3,
   "id": "51609a8c",
   "metadata": {},
   "outputs": [
    {
     "data": {
      "text/plain": [
       "array([0., 0.])"
      ]
     },
     "execution_count": 3,
     "metadata": {},
     "output_type": "execute_result"
    }
   ],
   "source": [
    "# Define the parameters \n",
    "Ac = 2  # m^2, cross sectional area of the tanks\n",
    "c1 = 0.13  # -, valve constant 1\n",
    "c2 = 0.20  # -, valve constant 2\n",
    "\n",
    "# Define a function that returns the system of algebraic equations:\n",
    "def g_sys(y, x, t):\n",
    "    # Return the vector [g1, ..., gn]\n",
    "    g1 = c1 * np.sqrt(x[0]) - y[0]  # = c_1 sqrt(x_1) - y_1\n",
    "    g2 = c2 * np.sqrt(x[1]) - y[1]  # = c_2 sqrt(x_2) - y_2\n",
    "    return [g1, g2]\n",
    "\n",
    "# Test the solver for the initial conditions:\n",
    "x0 = [0, 0]  # [x_1 (t_0), x_2 (t_0)]\n",
    "y0 = [0, 0]  # [y_1 (t_0), y_2 (t_0)]\n",
    "t0 = 0  # h, starting time\n",
    "\n",
    "scipy.optimize.fsolve(g_sys, y0, args=(x0, t0))  # Solves g_sys, outputs solution y\n",
    "# It is also worth testing g_sys(x0, y0, t0) while writing g_sys"
   ]
  },
  {
   "cell_type": "markdown",
   "id": "7bf0f544",
   "metadata": {},
   "source": [
    "Next we wrap the entire solution method into a function that computes the solution to simplify the later loop:"
   ]
  },
  {
   "cell_type": "code",
   "execution_count": 4,
   "id": "da3b4d5f",
   "metadata": {},
   "outputs": [
    {
     "data": {
      "text/plain": [
       "array([0., 0.])"
      ]
     },
     "execution_count": 4,
     "metadata": {},
     "output_type": "execute_result"
    }
   ],
   "source": [
    "def g_sol(y, x, t):\n",
    "    # Note: Instead of returning the numerical solution,\n",
    "    #       the analytical can also be set here.\n",
    "    sol = scipy.optimize.fsolve(g_sys, y, args=(x, t))  # = [y1, y2]\n",
    "    return sol\n",
    "\n",
    "y = g_sol(y0, x0, t0)\n",
    "y"
   ]
  },
  {
   "cell_type": "markdown",
   "id": "0d1bc2ea",
   "metadata": {},
   "source": [
    "## 2. Compute $\\frac{d \\textbf{x}}{d t}  =\\textbf{f}(\\textbf{x}, \\textbf{y}, t) $\n",
    "\n",
    "The next step is to write a function that returns the right-hand side of the system $\\frac{d \\textbf{x}}{d t}  =\\textbf{f}(\\textbf{x}, \\textbf{y}, t) $. This can then be used "
   ]
  },
  {
   "cell_type": "code",
   "execution_count": 5,
   "id": "8c3e4fe5",
   "metadata": {},
   "outputs": [
    {
     "data": {
      "text/plain": [
       "array([0.25, 0.  ])"
      ]
     },
     "execution_count": 5,
     "metadata": {},
     "output_type": "execute_result"
    }
   ],
   "source": [
    "def f_sys(x, y, t):\n",
    "    f1 = (q_in(t) - y[0]) / Ac\n",
    "    f2 = (y[0] - y[1]) / Ac\n",
    "    f = np.array([f1, f2])  # Wrap into array data type (vector)\n",
    "    return f  # Return vector of solutions f\n",
    "\n",
    "# Test for initial conditions (including y computed in the previous cell):\n",
    "dxdt = f_sys(y, x0, t0)\n",
    "dxdt"
   ]
  },
  {
   "cell_type": "markdown",
   "id": "5dc1b2b9",
   "metadata": {},
   "source": [
    "This is a good time to perform some basic sanity checks when possible to see if the system makes physical sense. For this example we expect the height of the first tank to increase while the flow out of the second tank should be zero (since the initial height of tank 1 is zero and there can be no flow out) as the output shows.  "
   ]
  },
  {
   "cell_type": "markdown",
   "id": "9e2a8dea",
   "metadata": {},
   "source": [
    "## 3. Integrator\n",
    "\n",
    "Finally we add the functions to our integrator. First we will use a simple forward step Euler method `while` loop:"
   ]
  },
  {
   "cell_type": "code",
   "execution_count": 6,
   "id": "272e8a65",
   "metadata": {},
   "outputs": [],
   "source": [
    "# Define the parameters \n",
    "Ac = 2  # m^2, cross sectional area of the tanks\n",
    "c1 = 0.13  # -, valve constant 1\n",
    "c2 = 0.20  # -, valve constant 2\n",
    "\n",
    "# Define the numerical simulation parameters\n",
    "t = 0  # Set initial time equal to 0 h\n",
    "t_f = 10  # Simulate for 10 hours of time\n",
    "dt = 0.1  # The timestep in hours\n",
    "\n",
    "# Set the initial conditions\n",
    "x = [0, 0]  # Set the initial x vector equal to [x_1(t=0), x_2(t=0)]\n",
    "y = [0, 0]  # Set the initial y vector equal to [y_1(t=0), y_2(t=0)]\n",
    "\n",
    "# Define data containers to save each time step\n",
    "x_sol = []  # List of solutions at each time step\n",
    "y_sol = []  # Usually this is not needed as it can be reconstructed from x, t\n",
    "t_sol = []  # List of time steps at each solution\n",
    "\n",
    "# Start main for loop:\n",
    "while t < t_f:\n",
    "    # 1. (solver) Solve algebraic equations 0 = g(y, x, t) \n",
    "    # using analytical solutions, iterative methods or a solver \n",
    "    # such as scipy.optimize.fsolve\n",
    "    y = g_sol(y, x, t)  # New solution vector\n",
    "    # 2. Compute f(x, y, t):\n",
    "    dxdt = f_sys(x, y, t)  # solve the system dxdt = f(x, y, t) with current x, y, t\n",
    "    # 3. (integrator) Advance the time of the (Eulerian step):\n",
    "    x = x + dxdt * dt  # Advance the system using forward Euler step of the simulation\n",
    "    t += dt  # Advance the time\n",
    "    # Save the solutions:\n",
    "    x_sol.append(x), y_sol.append(y), t_sol.append(t)"
   ]
  },
  {
   "cell_type": "code",
   "execution_count": 7,
   "id": "5702f7b0",
   "metadata": {},
   "outputs": [
    {
     "data": {
      "text/plain": [
       "array([0.025     , 0.04897226, 0.07253383, 0.09578324, 0.11877157,\n",
       "       0.14153146, 0.16408611, 0.18645312, 0.20864641, 0.23067735,\n",
       "       0.25255547, 0.2742889 , 0.29588468, 0.31734899, 0.3386873 ,\n",
       "       0.3599045 , 0.38100502, 0.40199286, 0.42287167, 0.44364481,\n",
       "       0.46431538, 0.48488623, 0.50536004, 0.52573927, 0.54602626,\n",
       "       0.56622318, 0.58633207, 0.60635487, 0.6262934 , 0.64614938,\n",
       "       0.66592446, 0.68562019, 0.70523804, 0.72477945, 0.74424574,\n",
       "       0.76363821, 0.78295809, 0.80220657, 0.82138478, 0.84049381,\n",
       "       0.83453472, 0.82859678, 0.82268   , 0.81678439, 0.81090995,\n",
       "       0.80505666, 0.79922454, 0.79341358, 0.78762379, 0.78185515,\n",
       "       0.77610769, 0.77038138, 0.76467624, 0.75899227, 0.75332946,\n",
       "       0.74768781, 0.74206733, 0.73646802, 0.73088986, 0.72533288,\n",
       "       0.71979706, 0.7142824 , 0.70878891, 0.70331659, 0.69786543,\n",
       "       0.69243544, 0.68702661, 0.68163895, 0.67627246, 0.67092713,\n",
       "       0.66560297, 0.66029998, 0.65501816, 0.6497575 , 0.64451801,\n",
       "       0.63929969, 0.63410253, 0.62892655, 0.62377173, 0.61863808,\n",
       "       0.6135256 , 0.60843429, 0.60336414, 0.59831517, 0.59328737,\n",
       "       0.58828073, 0.58329527, 0.57833097, 0.57338785, 0.56846589,\n",
       "       0.56356511, 0.55868549, 0.55382705, 0.54898978, 0.54417368,\n",
       "       0.53937875, 0.534605  , 0.52985241, 0.525121  , 0.52041076,\n",
       "       0.51572169])"
      ]
     },
     "execution_count": 7,
     "metadata": {},
     "output_type": "execute_result"
    }
   ],
   "source": [
    "# Process data\n",
    "x_sol = np.array(x_sol)  # Put list into an array for easier processing\n",
    "y_sol = np.array(y_sol)  # \"\n",
    "x_sol[:, 0]#, y_sol "
   ]
  },
  {
   "cell_type": "code",
   "execution_count": 8,
   "id": "618157ca",
   "metadata": {},
   "outputs": [
    {
     "data": {
      "image/png": "[encoded data removed]",
      "text/plain": [
       "<Figure size 432x288 with 1 Axes>"
      ]
     },
     "metadata": {
      "needs_background": "light"
     },
     "output_type": "display_data"
    }
   ],
   "source": [
    "plt.figure()\n",
    "plt.plot(t_sol, x_sol[:, 0],'b-', label='$h_1$')\n",
    "plt.plot(t_sol, x_sol[:, 1],'r-', label='$h_2$')\n",
    "plt.xlabel('Time (hrs)')\n",
    "plt.ylabel('Height (m)')\n",
    "plt.legend()\n",
    "plt.show()"
   ]
  },
  {
   "cell_type": "markdown",
   "id": "2c7353d2",
   "metadata": {},
   "source": [
    "#### Using advanced integrators\n",
    "\n",
    "Most DAE systems you will encounter in Chemical Engineering have numerical challenges such as stiffness (especially common in reactive systems). It is recommended that you use more advanced scientific and numerical libraries to solve these problems. The development so far in this notebook has intentionally been working towards a common standard used by the `scipy` library among others. The `LSODA` method of `scipy.integrate.solve_ivp` can automatically detect stiffness while the solver is progressing which is particularly suited to the highly stiff coagulation systems that we deal with in this course:"
   ]
  },
  {
   "cell_type": "code",
   "execution_count": 12,
   "id": "42e5b241",
   "metadata": {
    "scrolled": true
   },
   "outputs": [
    {
     "data": {
      "text/plain": [
       "  message: 'The solver successfully reached the end of the integration interval.'\n",
       "     nfev: 117\n",
       "     njev: 0\n",
       "      nlu: 0\n",
       "      sol: None\n",
       "   status: 0\n",
       "  success: True\n",
       "        t: array([0.00000000e+00, 1.26491096e-04, 2.52982193e-04, 1.31490008e-03,\n",
       "       2.37681798e-03, 5.16432362e-03, 7.95182926e-03, 1.07393349e-02,\n",
       "       1.93900111e-02, 2.80406873e-02, 3.66913635e-02, 5.36606826e-02,\n",
       "       7.06300017e-02, 8.75993207e-02, 1.16958979e-01, 1.46318638e-01,\n",
       "       1.75678296e-01, 2.27160717e-01, 2.78643137e-01, 3.30125558e-01,\n",
       "       3.81607978e-01, 5.06043388e-01, 6.30478797e-01, 7.54914207e-01,\n",
       "       8.79349616e-01, 1.14792890e+00, 1.41650819e+00, 1.68508747e+00,\n",
       "       1.95366675e+00, 2.54202871e+00, 3.13039066e+00, 3.71875262e+00,\n",
       "       3.83642501e+00, 3.95409740e+00, 3.98706964e+00, 3.99944732e+00,\n",
       "       4.00096607e+00, 4.00248483e+00, 4.00552234e+00, 4.00855985e+00,\n",
       "       4.03893495e+00, 4.06931005e+00, 4.09968516e+00, 4.40343618e+00,\n",
       "       4.70718720e+00, 5.01093822e+00, 5.31468924e+00, 6.55454073e+00,\n",
       "       7.79439222e+00, 9.03424371e+00, 1.00000000e+01])\n",
       " t_events: None\n",
       "        y: array([[0.00000000e+00, 3.15765726e-05, 6.31340178e-05, 3.27364615e-04,\n",
       "        5.91165830e-04, 1.28259508e-03, 1.97220378e-03, 2.66038423e-03,\n",
       "        4.78909572e-03, 6.90893952e-03, 9.02153578e-03, 1.31482443e-02,\n",
       "        1.72548913e-02, 2.13442041e-02, 2.83839577e-02, 3.53836269e-02,\n",
       "        4.23476951e-02, 5.44816654e-02, 6.65292945e-02, 7.84989121e-02,\n",
       "        9.03971812e-02, 1.18890024e-01, 1.47049931e-01, 1.74913960e-01,\n",
       "        2.02509524e-01, 2.61248465e-01, 3.18990958e-01, 3.75846627e-01,\n",
       "        4.31897605e-01, 5.52160999e-01, 6.69363724e-01, 7.83855202e-01,\n",
       "        8.06404760e-01, 8.28859347e-01, 8.35143823e-01, 8.37501958e-01,\n",
       "        8.37411620e-01, 8.37321287e-01, 8.37140640e-01, 8.36960012e-01,\n",
       "        8.35154714e-01, 8.33351364e-01, 8.31549964e-01, 8.13643158e-01,\n",
       "        7.95931262e-01, 7.78414275e-01, 7.61092197e-01, 6.92408397e-01,\n",
       "        6.26971999e-01, 5.64783004e-01, 5.18592087e-01],\n",
       "       [0.00000000e+00, 4.34815864e-08, 1.04709894e-07, 1.23384805e-06,\n",
       "        2.73602362e-06, 7.56890757e-06, 1.39332805e-05, 2.14634134e-05,\n",
       "        5.03492364e-05, 8.60937474e-05, 1.27274283e-04, 2.20720062e-04,\n",
       "        3.28423592e-04, 4.48104757e-04, 6.78943240e-04, 9.36029400e-04,\n",
       "        1.21577991e-03, 1.75446280e-03, 2.34476371e-03, 2.98041489e-03,\n",
       "        3.65644112e-03, 5.43599750e-03, 7.39027055e-03, 9.49320729e-03,\n",
       "        1.17259153e-02, 1.69251930e-02, 2.25595337e-02, 2.85592669e-02,\n",
       "        3.48735304e-02, 4.96322900e-02, 6.54261578e-02, 8.20615043e-02,\n",
       "        8.54894501e-02, 8.89435510e-02, 8.99134446e-02, 9.02778257e-02,\n",
       "        9.03225195e-02, 9.03671971e-02, 9.04564878e-02, 9.05457140e-02,\n",
       "        9.14347630e-02, 9.23174135e-02, 9.31937186e-02, 1.01618254e-01,\n",
       "        1.09460338e-01, 1.16759867e-01, 1.23551263e-01, 1.46554874e-01,\n",
       "        1.63117451e-01, 1.74312269e-01, 1.79838326e-01]])\n",
       " y_events: None"
      ]
     },
     "execution_count": 12,
     "metadata": {},
     "output_type": "execute_result"
    }
   ],
   "source": [
    "import scipy.integrate\n",
    "\n",
    "tspan = (t0, t_f) # Timespan of start and end time, h\n",
    "\n",
    "# Wrap the DAE system for scipy.integrate.solve_ivp solver\n",
    "def dxdt(t, x, y):\n",
    "    # 1. Solve algebraic equations\n",
    "    y = g_sol(y, x, t)  # New solution vector\n",
    "    # 2. Compute f(x, y, t):\n",
    "    dxdt = f_sys(x, y, t)  # solve the system dxdt = f(x, y, t) with current x, y, t\n",
    "    return dxdt\n",
    "\n",
    "# Simulate the system:\n",
    "res = scipy.integrate.solve_ivp(dxdt, tspan, x0, method='LSODA', args=(y0,))\n",
    "res"
   ]
  },
  {
   "cell_type": "code",
   "execution_count": 11,
   "id": "942ebbbb",
   "metadata": {},
   "outputs": [
    {
     "data": {
      "image/png": "[encoded data removed]",
      "text/plain": [
       "<Figure size 432x288 with 1 Axes>"
      ]
     },
     "metadata": {
      "needs_background": "light"
     },
     "output_type": "display_data"
    }
   ],
   "source": [
    "plt.figure()\n",
    "plt.plot(t_sol, x_sol[:, 0],'b-', label='$h_1 (Euler) $')\n",
    "plt.plot(t_sol, x_sol[:, 1],'r-', label='$h_2 (Euler) $')\n",
    "plt.plot(res.t, res.y[0, :],'b-x', label='$h_1 (Adams/BDF) $')\n",
    "plt.plot(res.t, res.y[1, :],'r-x', label='$h_2 (Adams/BDF) $')\n",
    "plt.xlabel('Time (hrs)')\n",
    "plt.ylabel('Height (m)')\n",
    "plt.legend()\n",
    "plt.show()"
   ]
  },
  {
   "cell_type": "markdown",
   "id": "8a807085",
   "metadata": {},
   "source": [
    "# Discretising partial differential equations\n",
    "\n",
    "The next step is to understand how to turn the partial differential equation (PDE) from our coagulation model into a DAE system that we can simulate. This will in turn also allow us to understand the discretisation of the coagulation model term $\\frac{\\partial n\\left(v_p, t\\right)}{\\partial t}$ into a system of differential equations $\\frac{\\mathrm{d} N_i}{\\mathrm{~d} t}$ where $N_i$ corresponds to a bin interval of particle volumes $v_p$. The notebook `Coagulation 1` demonstrates this process."
   ]
  },
  {
   "cell_type": "code",
   "execution_count": null,
   "id": "b8dc5530",
   "metadata": {},
   "outputs": [],
   "source": []
  }
 ],
 "metadata": {
  "kernelspec": {
   "display_name": "Python 3 (ipykernel)",
   "language": "python",
   "name": "python3"
  },
  "language_info": {
   "codemirror_mode": {
    "name": "ipython",
    "version": 3
   },
   "file_extension": ".py",
   "mimetype": "text/x-python",
   "name": "python",
   "nbconvert_exporter": "python",
   "pygments_lexer": "ipython3",
   "version": "3.9.12"
  }
 },
 "nbformat": 4,
 "nbformat_minor": 5
}
