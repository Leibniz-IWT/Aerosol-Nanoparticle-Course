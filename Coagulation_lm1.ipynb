{
 "cells": [
  {
   "cell_type": "markdown",
   "metadata": {},
   "source": [
    "[@lmaedler](https://www.uni-bremen.de/mvt/team/prof-dr-ing-habil-lutz-maedler) Jan. 3rd 2021"
   ]
  },
  {
   "cell_type": "markdown",
   "metadata": {},
   "source": [
    "# Particle Coagulation"
   ]
  },
  {
   "cell_type": "markdown",
   "metadata": {},
   "source": [
    "Let's begin by importing some python libraries we need for this notebook:"
   ]
  },
  {
   "cell_type": "code",
   "execution_count": 14,
   "metadata": {},
   "outputs": [],
   "source": [
    "import numpy as np\n",
    "from matplotlib import pyplot as plt"
   ]
  },
  {
   "cell_type": "markdown",
   "metadata": {},
   "source": [
    "We need to declare a few parameters here that become relevant later. The most important one is \n",
    "\n",
    "        t_total\n",
    "It is the real time in seconds our coagulation is taking place."
   ]
  },
  {
   "cell_type": "code",
   "execution_count": 15,
   "metadata": {},
   "outputs": [],
   "source": [
    "# variable declarations\n",
    "t_total = 2e-0                           # [s], change from 2e-4 to 2e-0 or any \n",
    "                                         # other number   \n",
    "nt = 1000                                # number of iteration steps \n",
    "dt = t_total / nt                        # [s], small time step during the interation\n",
    "dp_min = 0.5e-9                          # [m]\n",
    "dp_max = 1000e-9                         # [m]\n",
    "vp_min = np.pi/6 * (dp_min)**3           # [m^3]\n",
    "vp_max = np.pi/6 * (dp_max)**3           # [m^3]"
   ]
  },
  {
   "cell_type": "markdown",
   "metadata": {},
   "source": [
    "## Population balance equation for aggregation "
   ]
  },
  {
   "cell_type": "markdown",
   "metadata": {},
   "source": [
    "The population balance equation for pure coagulation can be writte as (Smoluchowski type aggregation model):\n",
    "\n",
    "$$\n",
    "\\begin{split}\n",
    "& \\frac{\\partial n(v_p,t)}{\\partial t} =\n",
    "\\frac{1}{2}\\int_0^{v_p} \\beta(\\tilde{v_p},v_p-\\tilde{v_p}) \\, n(\\tilde{v_p},t) \\, n(v_p-\\tilde{v_p},t) \\, d\\tilde{v_p} \n",
    "- \\int_0^{\\infty} \\beta(v_p,\\tilde{v_p}) \\, n(v_p,t) \\, n(\\tilde{v_p},t) \\, d\\tilde{v_p} \n",
    "\\end{split}\n",
    "$$"
   ]
  },
  {
   "cell_type": "markdown",
   "metadata": {},
   "source": [
    "\"Hounslow et al. (1988) used a geometric grid with factor 2 based on volume $(v_{i+1} = 2 \\, v_i$, with $v$ the particle volume) and were the **first** to develop a set of equations conserving both numbers and mass for purely aggregating systems\" (Nopens et al. 2005):\n",
    "\n",
    "$$\n",
    "\\dfrac{\\mathrm{d} N_i}{\\mathrm{d} t} = \\,  N_{i-1} \\sum_{j=1}^{i-2} 2^{j-i+1} \\, \\beta_{i-1,j} \\, N_j\n",
    "+ \\frac{1}{2} \\, \\beta_{i-1,i-1} \\, N_{i-1}^2 \\\\\n",
    " - N_{i} \\sum_{j=1}^{i-1} 2^{j-i} \\, \\beta_{i,j} \\, N_j\n",
    "- N_{i} \\sum_{j=i}^{\\infty} \\beta_{i,j} \\, N_j\n",
    "\\label{eq1}\\tag{1}\n",
    "$$\n",
    "\n",
    "Please consult the paper (Nopens et al. 2005) for more information of the strenghts and weaknesses of this model. "
   ]
  },
  {
   "cell_type": "code",
   "execution_count": 16,
   "metadata": {},
   "outputs": [],
   "source": [
    "# Initialization\n",
    "vp_num = int(np.log(vp_max / vp_min) // np.log(2) + 2)\n",
    "\n",
    "vp = np.zeros((vp_num))\n",
    "for i in range(vp_num): \n",
    "    vp[i] = vp_min * 2**i \n",
    "    \n",
    "n = np.zeros((vp_num))"
   ]
  },
  {
   "cell_type": "markdown",
   "metadata": {},
   "source": [
    "## Coagulation in the free molecular regime"
   ]
  },
  {
   "cell_type": "markdown",
   "metadata": {},
   "source": [
    "Here, we want to consider coagulation in the free molecular regime with \n",
    "\n",
    "$$\n",
    "\\beta_{i,j} = \\left( \\frac{3}{4 \\pi} \\right)^{1/6} \\sqrt{\\frac{6 k_B T}{\\rho_p}}\n",
    "\\left( \\frac{1}{v_i} + \\frac{1}{v_j} \\right)^{1/2}\n",
    "\\left( v_i^{1/3} + v_j^{1/3} \\right)^{2}\n",
    "$$\n"
   ]
  },
  {
   "cell_type": "code",
   "execution_count": 17,
   "metadata": {},
   "outputs": [],
   "source": [
    "T = 293                                  # [K]\n",
    "rho_p = 1.0e3                            # [kg / m^3]\n",
    "k_B = 1.380649e-23                       # [J / K = N m / K = kg m^2 / s^2 / K]\n",
    "beta_pre = (3/(np.pi*4))**(1/6) * (6 * k_B * T / rho_p)**(1/2)\n",
    "# [kg m^2 / s^2 / K * K * m^3 / kg = m^5 /s^2]**(1/2) = [m^5/2 / s]\n",
    "\n",
    "beta_n = np.zeros((vp_num, vp_num))\n",
    "for i in range(vp_num): \n",
    "    for j in range(vp_num): \n",
    "        beta_n[i,j] = beta_pre * (1/vp[i] + 1/vp[j])**(1/2) * \\\n",
    "                      (vp[i]**(1/3) + vp[j]**(1/3))**2\n",
    "        # [m^5/2 / s * 1/m^3/2 * m2 = m^3/s]"
   ]
  },
  {
   "cell_type": "markdown",
   "metadata": {},
   "source": [
    "We have all necessary equation, but still need to define our starting conditions. This is done with *n_0*. We select a bin (let's say number 4) and fill this bin with all our particles (let's say 2e18 #/m^3). You can use any other bin or several bins to start the coagulation. "
   ]
  },
  {
   "cell_type": "code",
   "execution_count": 18,
   "metadata": {},
   "outputs": [],
   "source": [
    "# Initial conditions\n",
    "n_0 = np.zeros((vp_num))\n",
    "start_bin = 4                 # this is an easy way to select a starting size\n",
    "n_0[start_bin] = 1e17         # [#/m^3]\n",
    "#n_0[6] = 1e17                # try to use these additional particles as starting condition\n",
    "n = n_0.copy()                # copy the initial condition to our interation array "
   ]
  },
  {
   "cell_type": "markdown",
   "metadata": {},
   "source": [
    "Now, in order to solve equation ([1](#mjx-eqn-eq1)) we need to implement a numreric scheme for the time derivertive. Here, we use the forward in time decritization. From our declarations above we use \n",
    "\n",
    "            nt = 1000                                # number of iteration steps \n",
    "            dt = t_total / nt                        # [s] \n",
    "      \n",
    "With this in place we can compute the following equation. Note, that the summations are done individually. This take a lot of time, but I have not come up with a vecor based way yet..."
   ]
  },
  {
   "cell_type": "markdown",
   "metadata": {},
   "source": [
    "$$\n",
    "\\begin{split}\n",
    "N_i^{n+1} = N_i^{n} + \\Delta t \\cdot \\left(\n",
    "N_{i-1}^n \\sum_{j=1}^{i-2} 2^{j-i+1} \\, \\beta_{i-1,j} \\, N_j^n\n",
    "+ \\frac{1}{2} \\, \\beta_{i-1,i-1} \\, {(N_{i-1}^n)}^2 \\\\\n",
    "- N_{i}^n \\sum_{j=1}^{i-1} 2^{j-i} \\, \\beta_{i,j} \\, N_j^n\n",
    "- N_{i}^n \\sum_{j=i}^{\\infty} \\beta_{i,j} \\, N_j^n\n",
    "\\right)\n",
    "\\end{split}\n",
    "$$"
   ]
  },
  {
   "cell_type": "code",
   "execution_count": 19,
   "metadata": {},
   "outputs": [],
   "source": [
    "nn = np.empty_like(n)\n",
    "for t in range(nt - 1):\n",
    "    nn = n.copy()\n",
    "    for i in range(1, vp_num, 1):\n",
    "        sum1 = np.zeros((vp_num))\n",
    "        sum2 = np.zeros((vp_num))\n",
    "        sum3 = np.zeros((vp_num))\n",
    "        for j in range(0, i - 1, 1):\n",
    "            sum1[i] = sum1[i] + (2**(j-i+1) * beta_n[i-1,j] * nn[j])\n",
    "        for j in range(0, i - 0, 1):    \n",
    "            sum2[i] = sum2[i] + (2**(j-i) * beta_n[i,j] * nn[j])\n",
    "        for j in range(i, vp_num - 1, 1): \n",
    "            sum3[i]= sum3[i] + (beta_n[i,j] * nn[j])\n",
    "        n[i] = nn[i] + dt * ( \\\n",
    "                             nn[i-1] * sum1[i] + \\\n",
    "                             1/2 * beta_n[i-1,i-1] * nn[i-1]**2 - \\\n",
    "                             nn[i] * sum2[i] - \\\n",
    "                             nn[i] * sum3[i]     \n",
    "                             )"
   ]
  },
  {
   "cell_type": "markdown",
   "metadata": {},
   "source": [
    "Now, all the calculations are done. Let's look at the results."
   ]
  },
  {
   "cell_type": "markdown",
   "metadata": {},
   "source": [
    "### Conservation of mass"
   ]
  },
  {
   "cell_type": "markdown",
   "metadata": {},
   "source": [
    "During coagulation the total volume of all particles must be consered. This can be expressed by the thrid moment of particle ditribution.\n",
    "$$\n",
    "V_{total} = \\int_0^\\infty v_p \\cdot n(v_p) \\, d v_p\n",
    "$$\n",
    "\n",
    "Let's calculate the ratio of $V_{total}$ at the beginning and the at the end. This must be 100%!"
   ]
  },
  {
   "cell_type": "code",
   "execution_count": 20,
   "metadata": {},
   "outputs": [
    {
     "name": "stdout",
     "output_type": "stream",
     "text": [
      "Ratio of total particle volumes: 100.0 %\n"
     ]
    }
   ],
   "source": [
    "print(\"Ratio of total particle volumes:\", round(np.sum(vp * n) / np.sum(n_0 * vp) ,3) * 100,\"%\") "
   ]
  },
  {
   "cell_type": "markdown",
   "metadata": {},
   "source": [
    "During coagulation the total number of all particles should decrease. \n",
    "$$\n",
    "N_{total} = \\int_0^\\infty n(v_p) \\, d v_p\n",
    "$$\n",
    "\n",
    "Let's calculate the ratio of $N_{total}$ at the beginning and the at the end. "
   ]
  },
  {
   "cell_type": "code",
   "execution_count": 21,
   "metadata": {},
   "outputs": [
    {
     "name": "stdout",
     "output_type": "stream",
     "text": [
      "Ratio of total particle numbers: 0.619 %\n"
     ]
    }
   ],
   "source": [
    "print(\"Ratio of total particle numbers:\", round(np.sum(n)/np.sum(n_0),5) * 100,\"%\") "
   ]
  },
  {
   "cell_type": "markdown",
   "metadata": {},
   "source": [
    "### Simple validation"
   ]
  },
  {
   "cell_type": "markdown",
   "metadata": {},
   "source": [
    "Can we check our simulation results further? We know that for a simple **monodisperse coagulation** with a constant $\\beta$ (let's say $10^{-15} \\, m^3/s$):\n",
    "\n",
    "$$\n",
    "\\dfrac{\\mathrm{d} N(t)}{\\mathrm{d} t} = - \\frac{1}{2} \\cdot \\beta \\cdot N(t)^2; \\quad \\quad t=0, \\,N=N_0\n",
    "$$\n",
    "integration leads to\n",
    "$$\n",
    "N(t) = \\frac{N_0}{1 + N_0 \\cdot \\frac{1}{2} \\cdot \\beta \\cdot t} \\\\\n",
    "$$\n",
    "using the fact that the total volume is conserved during coagulation\n",
    "$$\n",
    "v_p \\cdot N_p = v_{p,0} \\cdot N_{p,0} \\\\\n",
    "$$\n",
    "it follows \n",
    "$$\n",
    "\\frac{d_p}{d_{p,0}} = \\left( \\frac{v_p}{v_{p,0}} \\right)^{1/3}  = \\left( {1 + N_0 \\cdot \\frac{1}{2} \\cdot \\beta \\cdot t}  \\right)^{1/3} \n",
    "$$"
   ]
  },
  {
   "cell_type": "code",
   "execution_count": 22,
   "metadata": {},
   "outputs": [
    {
     "name": "stdout",
     "output_type": "stream",
     "text": [
      "Estimated factor of diameter increase: 4.66\n"
     ]
    }
   ],
   "source": [
    "print(\"Estimated factor of diameter increase:\", \\\n",
    "      round((1 + np.sum(n_0) * 1/2 * 1e-15 * t_total)**(1/3), 2))"
   ]
  },
  {
   "cell_type": "markdown",
   "metadata": {},
   "source": [
    "Now, let's compare to our numeric solution. Here, for simplicity we just take the particle volume bin with the largest number concentration. "
   ]
  },
  {
   "cell_type": "code",
   "execution_count": 23,
   "metadata": {},
   "outputs": [
    {
     "name": "stdout",
     "output_type": "stream",
     "text": [
      "Computed factor of diameter increase: 5.04\n"
     ]
    }
   ],
   "source": [
    "maximum_index = np.argmax(n)\n",
    "maximum_index_start = np.argmax(n_0)\n",
    "print(\"Computed factor of diameter increase:\", \\\n",
    "      round((vp[maximum_index]/vp[maximum_index_start])**(1/3), 2))"
   ]
  },
  {
   "cell_type": "markdown",
   "metadata": {},
   "source": [
    "We don't expect these two values to be the same, but they should be in the same order of magnitude.  "
   ]
  },
  {
   "cell_type": "markdown",
   "metadata": {},
   "source": [
    "### Visualizing the results"
   ]
  },
  {
   "cell_type": "markdown",
   "metadata": {},
   "source": [
    "Finally, we would like to plot the orginal particle size distribution with the one after the coagulation. For this we need to initialize the particle diameters from our particle volumes."
   ]
  },
  {
   "cell_type": "code",
   "execution_count": 24,
   "metadata": {},
   "outputs": [],
   "source": [
    "dp_start = np.zeros((vp_num))\n",
    "dp_end = np.zeros((vp_num))\n",
    "dp_start = (6/np.pi * vp[start_bin])**(1/3)\n",
    "dp_end = (6/np.pi * vp)**(1/3)"
   ]
  },
  {
   "cell_type": "markdown",
   "metadata": {},
   "source": [
    "The plotting looks a bit more complicated than usal, mainly because we want a plot with two axes. Please also note that particle size distributions are normilzed to the total particle number, respectively.  "
   ]
  },
  {
   "cell_type": "code",
   "execution_count": 25,
   "metadata": {},
   "outputs": [
    {
     "data": {
      "image/png": "[encoded data removed]",
      "text/plain": [
       "<Figure size 432x288 with 2 Axes>"
      ]
     },
     "metadata": {
      "needs_background": "light"
     },
     "output_type": "display_data"
    }
   ],
   "source": [
    "fig, ax1 = plt.subplots()\n",
    "color1 = \"tab:blue\"\n",
    "ax1.semilogx(dp_end, n_0 / np.sum(n_0), drawstyle=\"steps-mid\", \\\n",
    "             label=\"before coagulation\", color = color1) \n",
    "ax1.set_ylabel(\"particle number in #/m^3\", color = color1)\n",
    "ax1.tick_params(axis=\"y\", labelcolor = color1)\n",
    "title_string = \"normalized particle size distribution\" + \"\\n\" + \\\n",
    "    \"total time = \" + \\\n",
    "    str(np.format_float_scientific(t_total, precision=0)) + \" s,  \" + \\\n",
    "    \"total particle number = \" + \\\n",
    "    str(round(np.sum(n)/np.sum(n_0),5) * 100) + \" %\"\n",
    "ax1.set_title(title_string)\n",
    "ax1.set_xlabel(\"particle diameter in m\")\n",
    "\n",
    "color2 = \"tab:red\"\n",
    "ax2 = ax1.twinx() \n",
    "ax2.semilogx(dp_end, n / np.sum(n), drawstyle=\"steps-mid\", \\\n",
    "             label=\"after coagulation\", color = color2) \n",
    "ax2.set_ylabel(\"particle number in #/m^3\", color = color2)\n",
    "ax2.tick_params(axis=\"y\", labelcolor = color2)\n",
    "\n",
    "# ask matplotlib for the plotted objects and their labels\n",
    "lines, labels = ax1.get_legend_handles_labels()\n",
    "lines2, labels2 = ax2.get_legend_handles_labels()\n",
    "ax2.legend(lines + lines2, labels + labels2, loc=0)\n",
    "\n",
    "plt.tight_layout()\n",
    "plt.show()"
   ]
  },
  {
   "cell_type": "markdown",
   "metadata": {},
   "source": [
    "## Things to try"
   ]
  },
  {
   "cell_type": "markdown",
   "metadata": {},
   "source": [
    "* Change t_total from 2e-0 to 2e-2 to 2e2 or any other value.\n",
    "* What happens if t_total becomes too large and why ?\n",
    "* Change the start_bin from 4 to 8 or any other value.              \n",
    "* Change the value of the starting number concentration (n_0[start_bin] = 1e18). What happens if it is too large and why? \n",
    "* Start with two (or more) start bins such as  \n",
    "        start_bin = 4 \n",
    "        n_0[start_bin] = 1e17 \n",
    "        n_0[8] = 1e17 \n",
    "        \n",
    "* Write your own jupyter skript. Try to implement a $\\beta$ that is valid in the continuum regime."
   ]
  },
  {
   "cell_type": "markdown",
   "metadata": {},
   "source": [
    "## References"
   ]
  },
  {
   "cell_type": "markdown",
   "metadata": {},
   "source": [
    "Singh, M., Kaur, G., De Beer, T., Nopens, I. \"Solution of bivariate aggregation population balance equation: a comparative study\", Reaction Kinetics, Mechanisms and Catalysis, 123 (2) 385-401 (2018). \n",
    "\n",
    "Nopens, I., Beheydt, D., Vanrolleghem, P.A. \"Comparison and pitfalls of different discretised solution methods for population balance models: a simulation study\", Computers & Chemical Engineering, 29 (2) 367-377 (2005). \n",
    "\n",
    "Lister, J., Smit, D., Hounslow, M. \"Adjustable discretized population balance for growth and aggregation\", AIChE Journal, 41 (3) 591-603 (1995). \n",
    "\n",
    "Hounslow, M., Ryall, R., Marshall, V. \"A discretized population balance for nucleation, growth, and aggregation\", AIChE journal, 34 (11) 1821-1832 (1988). "
   ]
  },
  {
   "cell_type": "code",
   "execution_count": null,
   "metadata": {},
   "outputs": [],
   "source": []
  }
 ],
 "metadata": {
  "kernelspec": {
   "display_name": "Python 3 (ipykernel)",
   "language": "python",
   "name": "python3"
  },
  "language_info": {
   "codemirror_mode": {
    "name": "ipython",
    "version": 3
   },
   "file_extension": ".py",
   "mimetype": "text/x-python",
   "name": "python",
   "nbconvert_exporter": "python",
   "pygments_lexer": "ipython3",
   "version": "3.8.12"
  }
 },
 "nbformat": 4,
 "nbformat_minor": 4
}
