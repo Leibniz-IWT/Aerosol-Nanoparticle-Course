{
 "cells": [
  {
   "cell_type": "markdown",
   "id": "03517744",
   "metadata": {},
   "source": [
    "        Aerosol- und Nanotechnologie II | Florian Möller | Matr.-Nr. 4223486 | Abgabe: 01.05.22"
   ]
  },
  {
   "cell_type": "markdown",
   "id": "e27f2286",
   "metadata": {},
   "source": [
    "# Task 3"
   ]
  },
  {
   "cell_type": "markdown",
   "id": "50f5e46b",
   "metadata": {},
   "source": [
    "In this task, the volume of a CSTR should be optimized at a constant volume flow rate, at which the average particle diameter of $3.5 \\cdot 10^{-9}~\\mathrm{m}$ is produced. At the beginning, the proceed is the same like Task 1."
   ]
  },
  {
   "cell_type": "code",
   "execution_count": 1,
   "id": "7c70d483",
   "metadata": {},
   "outputs": [],
   "source": [
    "import numpy as np\n",
    "import scipy.integrate\n",
    "from matplotlib import pyplot as plt"
   ]
  },
  {
   "cell_type": "markdown",
   "id": "74d709ad",
   "metadata": {},
   "source": [
    "### Parameter"
   ]
  },
  {
   "cell_type": "code",
   "execution_count": 2,
   "id": "68eae785",
   "metadata": {},
   "outputs": [],
   "source": [
    "\n",
    "dp_min = 0.5e-9                          # [m]\n",
    "dp_max = 1000e-9                         # [m]\n",
    "vp_min = np.pi * (dp_min)**3  /6          # [m^3] \n",
    "vp_max = np.pi * (dp_max)**3  /6         # [m^3] \n",
    "vp_num = int(np.log(vp_max / vp_min) // np.log(2) + 2) \n",
    "vp = np.zeros((vp_num))\n",
    "for i in range(vp_num): \n",
    "    vp[i] = vp_min * 2**i \n",
    "dp = ( 6 * vp/ np.pi)**(1/3.0) \n",
    "\n",
    "Q = 0.5 # volume flow [m^3/s]\n",
    "\n",
    "N_0 = 1e17 # number of particle at the beginning\n",
    "A = 1e-1 # for q(v) (analytic solution)"
   ]
  },
  {
   "cell_type": "markdown",
   "id": "9d242922",
   "metadata": {},
   "source": [
    "### Funktionen"
   ]
  },
  {
   "cell_type": "code",
   "execution_count": 3,
   "id": "bba4142d",
   "metadata": {},
   "outputs": [],
   "source": [
    "def fun_q(v): \n",
    "    return A * v **(1/3)\n",
    "\n",
    "def dp_avg(n, dp): # calculating the average particle diameter from the distribution\n",
    "    return np.sum(n * dp) / np.sum(n)\n",
    "\n",
    "def an_n(v, tau): # definition from analytic solution as an function\n",
    "    return (1/(A * v**(1/3.0))) * np.exp(\n",
    "            (3/2.0) * (vp_min**(2/3.0) - v**(2/3.0))/(A * tau)\n",
    "            ) * (N_0 / tau) \n"
   ]
  },
  {
   "cell_type": "markdown",
   "id": "bb87778a",
   "metadata": {},
   "source": [
    "## Optimization of the reactor volume"
   ]
  },
  {
   "cell_type": "markdown",
   "id": "d1fb69d4",
   "metadata": {},
   "source": [
    "To optimise the reactor volume, a loop is used that adjusts the residence time backward. First, a start residence time is estimated analytically, which is reduced with each step in the loop. It is important, that the required residence time is smaller than the starting residence time. "
   ]
  },
  {
   "cell_type": "code",
   "execution_count": 4,
   "id": "dd47a1fa",
   "metadata": {},
   "outputs": [
    {
     "name": "stdout",
     "output_type": "stream",
     "text": [
      "tau_an =  3.3197239676150475e-10 , diff =  9.995586146627857e-32 B =  1.6598619838075238e-10\n"
     ]
    }
   ],
   "source": [
    "tau_an = 1 \n",
    "while tau_an > 1e-15:\n",
    "\n",
    "    n_an = an_n(vp, tau_an)        # calculating the particle distribution with the analytic form\n",
    "    dp_av_an = dp_avg(n_an, dp)    # calculating the average particle diameter with the analytic distribution\n",
    "    diff = (3.5e-9-dp_av_an)**2    # Difference between searched value and current value\n",
    "    \n",
    "    if diff < 1e-31: # limit value as an termination criterion\n",
    "        print('tau_an = ', tau_an, ', diff = ', diff, 'B = ', tau_an*Q)\n",
    "        break\n",
    "    \n",
    "    if diff < 1e-30:    # boundary to increase the resolution to save processing power\n",
    "        tau_an = 0.99999999*tau_an\n",
    "    else:\n",
    "        tau_an = 0.9999*tau_an"
   ]
  },
  {
   "cell_type": "markdown",
   "id": "95f2571b",
   "metadata": {},
   "source": [
    "### Plots"
   ]
  },
  {
   "cell_type": "code",
   "execution_count": 5,
   "id": "59601f79",
   "metadata": {},
   "outputs": [
    {
     "data": {
      "image/png": "[encoded data removed]",
      "text/plain": [
       "<Figure size 432x288 with 1 Axes>"
      ]
     },
     "metadata": {
      "needs_background": "light"
     },
     "output_type": "display_data"
    }
   ],
   "source": [
    "tau = np.linspace(1e-10, 1e-9, 100000) # dummy-tau for visualization\n",
    "diff = np.zeros(len(tau))\n",
    "\n",
    "for i in range(len(tau)): # dummy loop for visualization; condition: it is necessary to know the rea in which the tau you are looking for is located\n",
    "    n = an_n(vp, tau[i])\n",
    "    dp_av = dp_avg(n, dp)\n",
    "    diff[i] = np.abs(3.5e-9-dp_av)\n",
    "\n",
    "fig, ax = plt.subplots()\n",
    "plt.plot(tau, diff)\n",
    "plt.xlabel('tau')\n",
    "plt.ylabel('diff')\n",
    "ax.set_yscale('log')\n",
    "\n",
    "ax.set_xscale('log')"
   ]
  },
  {
   "cell_type": "code",
   "execution_count": null,
   "id": "47abf382",
   "metadata": {},
   "outputs": [],
   "source": []
  },
  {
   "cell_type": "code",
   "execution_count": null,
   "id": "0c2dede8",
   "metadata": {},
   "outputs": [],
   "source": []
  }
 ],
 "metadata": {
  "kernelspec": {
   "display_name": "Python 3 (ipykernel)",
   "language": "python",
   "name": "python3"
  },
  "language_info": {
   "codemirror_mode": {
    "name": "ipython",
    "version": 3
   },
   "file_extension": ".py",
   "mimetype": "text/x-python",
   "name": "python",
   "nbconvert_exporter": "python",
   "pygments_lexer": "ipython3",
   "version": "3.10.4"
  }
 },
 "nbformat": 4,
 "nbformat_minor": 5
}
