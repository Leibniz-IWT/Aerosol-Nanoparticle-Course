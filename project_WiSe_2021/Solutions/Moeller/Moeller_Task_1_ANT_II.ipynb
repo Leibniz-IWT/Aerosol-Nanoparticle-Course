{
 "cells": [
  {
   "cell_type": "markdown",
   "id": "f08b18b8",
   "metadata": {},
   "source": [
    "        Aerosol- und Nanotechnologie II | Florian Möller | Matr.-Nr. 4223486 | Abgabe: 01.05.22"
   ]
  },
  {
   "cell_type": "markdown",
   "id": "05ae21a9",
   "metadata": {},
   "source": [
    "# Task 1"
   ]
  },
  {
   "cell_type": "markdown",
   "id": "135e6a96",
   "metadata": {},
   "source": [
    "The goal of this project is to design a CSTR reactor optimized to produce a given particle number distribution. \n",
    "\n",
    "The mass balance for the CSTR (continuous stirred tank reactor) with a volume $B$ and a flow $Q$ is given by \n",
    "\n",
    "$$\n",
    "Q n(v)=Q n_{0}(v)+B\\left(\\begin{array}{c}\n",
    "\\text { net rate of formation } \\\\\n",
    "\\text { per unit volume }\n",
    "\\end{array}\\right)-B\\left(\\begin{array}{c}\n",
    "\\text { rate of deposition } \\\\\n",
    "\\text { per unit volume }\n",
    "\\end{array}\\right).\n",
    "\\label{eq:Massenbilanz}\n",
    "$$\n",
    "\n",
    "At steady state the mass balance ODE for a given initial aerosol distribution $n_{0}(v)$ can be simplified and is given by\n",
    "\n",
    "$$\n",
    "\\frac{n_{0}}{\\tau}=\\frac{n}{\\tau}+\\frac{d(n q)}{d v}\n",
    "$$\n",
    "\n",
    "where $\\tau = B / Q$ is the residence time, $n_0$ the particle distribution at the beginning, and n(v) the particle distribution, depending from the particle volume $v$. $q$ is a given variable, which is given by\n",
    "\n",
    "$$\n",
    "q=A v^{1 / 3}\n",
    "$$\n",
    "\n",
    "where $A = 0.1~\\mathrm{m}^{2/3}$ is a constant variable.\n",
    "\n",
    "The goals for the first Task is an discretization of the steady state coagulation for a CSTR.\n",
    "\n",
    "\n",
    "For comparison, an analytical form is given by\n",
    "\n",
    "$$\n",
    "n(v)=\\frac{1}{A v^{1 / 3}}\\left\\{\\exp \\left[\\frac{3}{2} \\frac{\\left(v_{0}^{2 / 3}-v^{2 / 3}\\right)}{A \\tau}\\right]\\right\\} \\frac{N_{0}}{\\tau} \\quad\\left(v>v_{0}\\right).\n",
    "\\label{eq:Loesung_an}\n",
    "$$"
   ]
  },
  {
   "cell_type": "code",
   "execution_count": 1,
   "id": "70567729",
   "metadata": {},
   "outputs": [],
   "source": [
    "import numpy as np\n",
    "import scipy.integrate\n",
    "from matplotlib import pyplot as plt"
   ]
  },
  {
   "cell_type": "code",
   "execution_count": 7,
   "id": "313c0ba7",
   "metadata": {},
   "outputs": [],
   "source": [
    "# Parameters\n",
    "dp_min = 0.5e-9                          # [m]\n",
    "dp_max = 1000e-9                         # [m]\n",
    "vp_min = np.pi * (dp_min)**3  /6          # [m^3] start-volume\n",
    "vp_max = np.pi * (dp_max)**3  /6         # [m^3] max-volume\n",
    "\n",
    "Q = 0.5 # volume flow [m^3/s]\n",
    "B = 1000 # reactor volume [m^3]\n",
    "tau = B/Q # Residence time [s]\n",
    "\n",
    "# Initial particle size\n",
    "dp_0 = 0.5e-9 # [m]\n",
    "vp_0 = np.pi * (dp_0)**3  /6 # [m^3]\n",
    "N_0 = 1e17 # number of particle at the beginning\n",
    "A = 1e-1 # for q(v) (analytic solution)\n",
    "\n",
    "# Initialization for vspan\n",
    "vp_num = int(np.log(vp_max / vp_min) // np.log(2) + 2)  # number of iteration in x- direction\n",
    "vp = np.zeros((vp_num))                                  \n",
    "for i in range(vp_num): \n",
    "    vp[i] = vp_min * 2**i                               # geometric discretization from Hounslow et al. (1988) and Hounslow (1990b)\n",
    " \n",
    "\n",
    "# Particle diameter span:\n",
    "dp = ( 6 * vp/ np.pi)**(1/3.0)                          # Recalculating the Volume-Vector in a Diameter-Vector"
   ]
  },
  {
   "cell_type": "markdown",
   "id": "6c29b8be",
   "metadata": {},
   "source": [
    "## Analytic solution"
   ]
  },
  {
   "cell_type": "markdown",
   "id": "46b19766",
   "metadata": {},
   "source": [
    "First the analytic shape of the equation and the average diameter are calculated and the solution is shown graphically."
   ]
  },
  {
   "cell_type": "code",
   "execution_count": 8,
   "id": "0909c9db",
   "metadata": {},
   "outputs": [],
   "source": [
    "# functions\n",
    "def fun_q(v): \n",
    "    return A * v **(1/3)  # definition from q(v) for the analytic soltution\n",
    "\n",
    "def an_n(v): # definition from analytic solution as an function\n",
    "    return (1/(A * v**(1/3.0))) * np.exp(\n",
    "            (3/2.0) * (vp_0**(2/3.0) - v**(2/3.0))/(A * tau)\n",
    "            ) * (N_0 / tau) \n",
    "\n",
    "# Function to compute the number average particle distribution\n",
    "def dp_avg(n, dp):\n",
    "    return np.sum(n * dp) / np.sum(n)"
   ]
  },
  {
   "cell_type": "code",
   "execution_count": 9,
   "id": "450075c6",
   "metadata": {},
   "outputs": [
    {
     "name": "stdout",
     "output_type": "stream",
     "text": [
      "dp_avg = 3.50845075515007e-09 at B = 1000 m^3, tau = 2000.0 s\n"
     ]
    },
    {
     "data": {
      "text/plain": [
       "<matplotlib.legend.Legend at 0x7feef4b2f430>"
      ]
     },
     "execution_count": 9,
     "metadata": {},
     "output_type": "execute_result"
    },
    {
     "data": {
      "image/png": "[encoded data removed]",
      "text/plain": [
       "<Figure size 432x288 with 1 Axes>"
      ]
     },
     "metadata": {
      "needs_background": "light"
     },
     "output_type": "display_data"
    }
   ],
   "source": [
    "# Compute analytical solution:\n",
    "n = an_n(vp)\n",
    "# Next compute the number average particle diameter from the results:\n",
    "dp_av = dp_avg(n, dp)\n",
    "\n",
    "# Compute number average particle diameter\n",
    "dp_av = dp_avg(n, dp)\n",
    "print(f'dp_avg = {dp_av} at B = {B} m^3, tau = {tau} s')\n",
    "plt.semilogx(dp, n, label=r'Analytical $n$')\n",
    "plt.semilogx([dp_av, dp_av], [np.min(an_n(vp)), np.max(an_n(vp))], label='Number average particle diameter')\n",
    "\n",
    "plt.ylabel(r'$n(v)$ in #/m$^3$')\n",
    "plt.xlabel(r'$d_p$ particle diameter in m')\n",
    "plt.legend()\n"
   ]
  },
  {
   "cell_type": "markdown",
   "id": "7a275a4c",
   "metadata": {},
   "source": [
    "## Numerical Solution"
   ]
  },
  {
   "cell_type": "markdown",
   "id": "bcc3d1d7",
   "metadata": {},
   "source": [
    "In the next step the numerical Solution will be calculated. The average diameter is calculated again."
   ]
  },
  {
   "cell_type": "code",
   "execution_count": 10,
   "id": "d6146a4f",
   "metadata": {},
   "outputs": [
    {
     "name": "stdout",
     "output_type": "stream",
     "text": [
      "dp_av = 3.5797253408464758e-09\n"
     ]
    }
   ],
   "source": [
    "v_min = vp_min\n",
    "\n",
    "def dnqdv(v, nq):    \n",
    "    q = fun_q(v)\n",
    "    n = nq/q\n",
    "\n",
    "    if v == vp_min:\n",
    "        dnqdv = N_0/tau - n/tau\n",
    "    else:\n",
    "        dnqdv = - n/tau\n",
    "    return dnqdv\n",
    "\n",
    "# Initial value:\n",
    "q = A * vp_min **(1/3.0)\n",
    "y0 =  [N_0 / tau] # boundary condition for the differential equation\n",
    "\n",
    "# Solver options\n",
    "options = {'rtol': 1e-12,'atol': 1e-12}\n",
    "\n",
    "# Initialise data containers.\n",
    "res_nq_list = []  # nq variable to be integrated\n",
    "res_v_list = []  # v indepedent variable\n",
    "vpn = vp.copy()  # Volume span\n",
    "rv = 0.0 \n",
    "vp_min_n = vp_min\n",
    "while rv < (vp_max * 0.99):\n",
    "    # Solve the ivp:\n",
    "    vpn = [vpn[0], vpn[1]]\n",
    "    res = scipy.integrate.solve_ivp(dnqdv, vpn, y0, method='LSODA', **options)\n",
    "\n",
    "    #Process results and save data:\n",
    "    res_nq = res.y[0]\n",
    "    res_v = res.t\n",
    "    res_nq_list.extend(list(res_nq))\n",
    "    res_v_list.extend(list(res_v))\n",
    "    vp_min_n = res_v[-1]\n",
    "    \n",
    "    # Recompute particle bins\n",
    "    vpn = vp.copy() \n",
    "    for i in range(vp_num): \n",
    "        vpn[i] = vp_min_n * 2**i \n",
    "    \n",
    "    # Update the outer loop\n",
    "    y0 = [res_nq[-1]]\n",
    "    rv = res_v[-1] \n",
    "\n",
    "# Recompute the particle values\n",
    "res_nq = np.array(res_nq_list)\n",
    "res_v = np.array(res_v_list)\n",
    "q_sol = A * res_v **(1/3.0)\n",
    "res_n = res_nq / q_sol\n",
    "res_dp = ( 6 * res_v/ np.pi)**(1/3.0)\n",
    "dp_av = dp_avg(res_n, res_dp)\n",
    "print(f'dp_av = {dp_av}')\n"
   ]
  },
  {
   "cell_type": "markdown",
   "id": "5d451ec1",
   "metadata": {},
   "source": [
    "At least to compare the numerical and the analytic solution, the results of both way a represented graphically."
   ]
  },
  {
   "cell_type": "code",
   "execution_count": 11,
   "id": "d51a948e",
   "metadata": {},
   "outputs": [
    {
     "data": {
      "text/plain": [
       "<matplotlib.legend.Legend at 0x7feef4c0e500>"
      ]
     },
     "execution_count": 11,
     "metadata": {},
     "output_type": "execute_result"
    },
    {
     "data": {
      "image/png": "[encoded data removed]",
      "text/plain": [
       "<Figure size 432x288 with 1 Axes>"
      ]
     },
     "metadata": {
      "needs_background": "light"
     },
     "output_type": "display_data"
    }
   ],
   "source": [
    "#plt.semilogx(vp, an_nq(vp), label='Analytical nq')\n",
    "plt.semilogx(dp, an_n(vp), label=f'Analytical solution $n(v)$, tau = {tau}')\n",
    "plt.semilogx(res_dp, res_n, '--', label=f'Numerical solution $n(v)$, tau = {tau}')\n",
    "plt.semilogx([dp_av, dp_av], [np.min(an_n(vp)), np.max(an_n(vp))], label='Number average particle diameter')\n",
    "plt.ylabel(r'$n(v)$ in #/m$^3$')\n",
    "plt.xlabel(r'$d_p$ particle diameter in m')\n",
    "plt.legend()\n"
   ]
  },
  {
   "cell_type": "code",
   "execution_count": null,
   "id": "dfd3c3b1",
   "metadata": {},
   "outputs": [],
   "source": []
  }
 ],
 "metadata": {
  "kernelspec": {
   "display_name": "Python 3 (ipykernel)",
   "language": "python",
   "name": "python3"
  },
  "language_info": {
   "codemirror_mode": {
    "name": "ipython",
    "version": 3
   },
   "file_extension": ".py",
   "mimetype": "text/x-python",
   "name": "python",
   "nbconvert_exporter": "python",
   "pygments_lexer": "ipython3",
   "version": "3.10.4"
  }
 },
 "nbformat": 4,
 "nbformat_minor": 5
}
