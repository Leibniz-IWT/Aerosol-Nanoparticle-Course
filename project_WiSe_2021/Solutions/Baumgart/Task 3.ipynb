{
 "cells": [
  {
   "cell_type": "markdown",
   "id": "0674e556",
   "metadata": {},
   "source": [
    "        Aerosol- und Nanotechnologie II | Friederike Baumgart | Matr.-Nr. 4343944 | Abgabe: 01.05.22"
   ]
  },
  {
   "cell_type": "markdown",
   "id": "f28413fb",
   "metadata": {},
   "source": [
    "# Aufgabe 3"
   ]
  },
  {
   "cell_type": "markdown",
   "id": "3da77fbc",
   "metadata": {},
   "source": [
    "In dieser Aufgabe soll bei konstantem Volumenstrom ein geeignetes Reaktorvolumen gefunden werden, bei dem der mittlere Partikeldurchmesser von $3.5~\\cdot~10^{-9}~\\mathrm{m}$ entsteht. Dafür wird mit verschiedenen Verweilzeiten analytisch die Partikelverteilung und daraus der mittlere Durchmesser berechnet, bis dieser der Vorgabe entspricht. Vorgegangen wird dabei zunächst wie in Aufgabe 1."
   ]
  },
  {
   "cell_type": "markdown",
   "id": "74d709ad",
   "metadata": {},
   "source": [
    "### Parameter"
   ]
  },
  {
   "cell_type": "code",
   "execution_count": 2,
   "id": "68eae785",
   "metadata": {},
   "outputs": [],
   "source": [
    "import numpy as np\n",
    "import scipy.integrate\n",
    "from matplotlib import pyplot as plt\n",
    "\n",
    "dp_min = 0.5e-9                          # [m]\n",
    "dp_max = 1000e-9                         # [m]\n",
    "vp_min = np.pi * (dp_min)**3  /6          # [m^3] Start-Volumen\n",
    "vp_max = np.pi * (dp_max)**3  /6         # [m^3] End-Volumen\n",
    "vp_num = int(np.log(vp_max / vp_min) // np.log(2) + 2) #Schrittzahl von min bis max\n",
    "vp = np.zeros((vp_num))\n",
    "for i in range(vp_num): \n",
    "    vp[i] = vp_min * 2**i \n",
    "dp = ( 6 * vp/ np.pi)**(1/3.0) #Zugehöriger Vektor für Durchmesser\n",
    "\n",
    "# #Verweilzeit\n",
    "Q = 0.5 # Volumenstrom\n",
    "\n",
    "#Startwerte\n",
    "N_0 = 1e17 #start_Zahl\n",
    "\n",
    "A = 1e-1 # für q(v)"
   ]
  },
  {
   "cell_type": "markdown",
   "id": "9d242922",
   "metadata": {},
   "source": [
    "### Funktionen"
   ]
  },
  {
   "cell_type": "code",
   "execution_count": 3,
   "id": "bba4142d",
   "metadata": {},
   "outputs": [],
   "source": [
    "def fun_q(v): \n",
    "    return A * v **(1/3)\n",
    "\n",
    "#mittlerer Partikeldurchmesser\n",
    "def dp_avg(n, dp):\n",
    "    return np.sum(n * dp) / np.sum(n)\n",
    "\n",
    "#Analytische Lösung:\n",
    "def an_n(v,tau):\n",
    "    return (1/(A * v**(1/3.0))) * np.exp(\n",
    "            (3/2.0) * (vp_min**(2/3.0) - v**(2/3.0))/(A * tau)\n",
    "            ) * (N_0 / tau)\n"
   ]
  },
  {
   "cell_type": "markdown",
   "id": "1e5d577c",
   "metadata": {},
   "source": [
    "Um die gesuchte Verweilzeit bzw. das gesuchte Reaktorvolumen zu finden, wird eine while-Schleife durchlaufen. Beginnend mit einer Verweilzeit von einer Sekunde wird die Partikelverteilung, der mittlere Durchmesser und die Differenz zwischen diesem und dem gesuchten berechnet.<br>\n",
    "Ist diese Abweichung nahezu null, ist der gesuchte Wert erreicht, wird ausgegeben und die while-Schleife beendet. Ist die Differenz größer, wird für den nächsten Durchlauf eine kleinere Verweilzeit gewählt. Um die Rechenzeit zu verkürzen, wird die Abweichung quadriert. \n",
    "Eine geringere Differenz zwischen den Verweilzeiten zweier Schritte führt zwar zu einer höheren Genauigkeit. Es wird dadurch jedoch auch Anzahl an Durchläufen erhöht, was die Rechenzeit verlängert. Deshalb wird bei Unterschreiten einer bestimmten Differenz der mittleren Partikeldurchmesser eine höhere Auflösung gewählt."
   ]
  },
  {
   "cell_type": "code",
   "execution_count": 4,
   "id": "dd47a1fa",
   "metadata": {},
   "outputs": [
    {
     "name": "stdout",
     "output_type": "stream",
     "text": [
      "tau_an =  3.3197239676150475e-10 , diff =  9.995586146627855e-32 B =  1.6598619838075238e-10\n"
     ]
    }
   ],
   "source": [
    "tau_an = 1      # s\n",
    "while tau_an > 1e-15:\n",
    "\n",
    "    n_an = an_n(vp, tau_an)\n",
    "    dp_av_an = dp_avg(n_an, dp)\n",
    "    diff = (3.5e-9-dp_av_an)**2\n",
    "    \n",
    "    if diff < 1e-31:\n",
    "        print('tau_an = ', tau_an, ', diff = ', diff, 'B = ', tau_an*Q)\n",
    "        break\n",
    "    \n",
    "    if diff < 1e-30:\n",
    "        tau_an = 0.99999999*tau_an\n",
    "    else:\n",
    "        tau_an = 0.9999*tau_an"
   ]
  },
  {
   "cell_type": "markdown",
   "id": "95f2571b",
   "metadata": {},
   "source": [
    "### Plots"
   ]
  },
  {
   "cell_type": "markdown",
   "id": "27cc6793",
   "metadata": {},
   "source": [
    "Zur Veranschaulichung wird die Differenz zwischen dem berechneten und dem gesuchten mittleren Partikeldurchmesser über die Verweilzeit graphisch dargestellt. Zu sehen ist, dass diese Differenz, wie oben berechnet, bei ca. $3.3~\\cdot~10^{-9}~\\mathrm{s}$ liegt. "
   ]
  },
  {
   "cell_type": "code",
   "execution_count": 7,
   "id": "59601f79",
   "metadata": {},
   "outputs": [
    {
     "data": {
      "image/png": "[encoded data removed]",
      "text/plain": [
       "<Figure size 432x288 with 1 Axes>"
      ]
     },
     "metadata": {
      "needs_background": "light"
     },
     "output_type": "display_data"
    }
   ],
   "source": [
    "tau = np.linspace(1e-10, 1e-9, 100000)\n",
    "diff = np.zeros(len(tau))\n",
    "\n",
    "for i in range(len(tau)):\n",
    "    n = an_n(vp, tau[i])\n",
    "    dp_av = dp_avg(n, dp)\n",
    "    diff[i] = np.abs(3.5e-9-dp_av)\n",
    "\n",
    "fig, ax = plt.subplots()\n",
    "plt.plot(tau, diff)\n",
    "plt.xlabel('Verweilzeit $tau$ in s')\n",
    "plt.ylabel('Differenz $d_\\mathrm{p, avg}$')\n",
    "ax.set_yscale('log')\n",
    "ax.set_xscale('log')"
   ]
  },
  {
   "cell_type": "markdown",
   "id": "879524ad",
   "metadata": {},
   "source": [
    "Die analytisch und numerisch ermittelte Partikelverteilung bei dieser Verweilzeit bzw. diesem Reaktorvolumen ist in Aufgabe 1 dargestellt."
   ]
  },
  {
   "cell_type": "code",
   "execution_count": null,
   "id": "7b7a0a67",
   "metadata": {},
   "outputs": [],
   "source": []
  }
 ],
 "metadata": {
  "kernelspec": {
   "display_name": "Python 3 (ipykernel)",
   "language": "python",
   "name": "python3"
  },
  "language_info": {
   "codemirror_mode": {
    "name": "ipython",
    "version": 3
   },
   "file_extension": ".py",
   "mimetype": "text/x-python",
   "name": "python",
   "nbconvert_exporter": "python",
   "pygments_lexer": "ipython3",
   "version": "3.10.8"
  }
 },
 "nbformat": 4,
 "nbformat_minor": 5
}
