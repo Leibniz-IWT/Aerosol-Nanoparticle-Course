{
 "cells": [
  {
   "cell_type": "markdown",
   "id": "21ef37ad",
   "metadata": {},
   "source": [
    "        Aerosol- und Nanotechnologie II | Friederike Baumgart | Matr.-Nr. 4343944 | Abgabe: 01.05.22"
   ]
  },
  {
   "cell_type": "markdown",
   "id": "7300279d",
   "metadata": {},
   "source": [
    "# Aufgabe 1"
   ]
  },
  {
   "cell_type": "markdown",
   "id": "badb01de",
   "metadata": {},
   "source": [
    "In einen kontinuierlichen Rührkesselreaktor werden Partikel einer vorgegebenen Größe geleitet. Diese koagulieren monodispers, sodass eine Verteilung der Partikelanzahl $n(v)$ jeder Partikelgröße mit dem Volumen $v$ entsteht. Diese Partikelverteilung soll in dieser Aufgabe sowohl analytisch als auch numerisch bestimmt werden. Beide Ergebnisse werden abschließend miteinander vergliechen.\n",
    "\n",
    "Aus der Massenbilanz für den stationären Betrieb\n",
    "\n",
    "$$\n",
    "Q n(v)=Q n_{0}(v)+B\\left(\\begin{array}{c}\n",
    "\\text { net rate of formation } \\\\\n",
    "\\text { per unit volume }\n",
    "\\end{array}\\right)-B\\left(\\begin{array}{c}\n",
    "\\text { rate of deposition } \\\\\n",
    "\\text { per unit volume }\n",
    "\\end{array}\\right)\n",
    "\\label{eq:Massenbilanz}\\tag{1}\n",
    "$$\n",
    "\n",
    "mit dem Massenstrom $Q$ und dem Reaktorvolumen $B$ ergibt sich die Differentialgleichung (DGL)\n",
    "\n",
    "$$\n",
    "\\frac{n_{0}}{\\tau}=\\frac{n}{\\tau}+\\frac{d(n q)}{d v}\n",
    "\\label{eq:DGL}\\tag{2}\n",
    "$$\n",
    "\n",
    "mit der Verweilzeit $\\tau = Q/B$, der Partikelkonzentration im Zulauf $N_0$ und der Variable $q=A v^{1 / 3}$ mit $A = 0.1~\\mathrm{m}^{2/3}$."
   ]
  },
  {
   "cell_type": "markdown",
   "id": "989983cb",
   "metadata": {},
   "source": [
    "Eine analytische Lösung der DGL lautet\n",
    "\n",
    "$$\n",
    "n(v)=\\frac{1}{A v^{1 / 3}}\\left\\{\\exp \\left[\\frac{3}{2} \\frac{\\left(v_{0}^{2 / 3}-v^{2 / 3}\\right)}{A \\tau}\\right]\\right\\} \\frac{N_{0}}{\\tau} \\quad\\left(v>v_{0}\\right).\n",
    "\\label{eq:Loesung_an}\\tag{3}\n",
    "$$"
   ]
  },
  {
   "cell_type": "markdown",
   "id": "0bd06e24",
   "metadata": {},
   "source": [
    "### Parameter"
   ]
  },
  {
   "cell_type": "markdown",
   "id": "e53b5c8d",
   "metadata": {},
   "source": [
    "Im Folgenden ist eine numerische Lösung der DGL dargestellt.\n",
    "Dafür werden benötigte Datenbanken importiert und Vektoren mit den Volumina bzw. Durchmessern der Partikel erstellt.\n",
    "Betrachtet werden sollen Partikel mit einem Durchmesser von $0.5 \\cdot 10^{-9}$ bis $1000 \\cdot 10^{-9}~\\mathrm{m}$. In dieser Berechnung sollen die Partikel monodispers koagulieren. Somit werden in einen Vektor $v_\\mathrm{p}$ die möglichen Partikelvolumina geschrieben, wenn sich das Volumen, beginnend mit $v_\\mathrm{min}$, bei jedem Schritt verdoppelt. Die nächstkleinere ganze Zahl von\n",
    "$$\n",
    "v_{\\mathrm{p, num}} = \\frac{\\log \\left( \\frac{v_{\\mathrm{p, max}}}{v_{\\mathrm{p, min}}}\\right)}{\\log 2}+2\n",
    "\\label{eq:np_num}\\tag{4}\n",
    "$$\n",
    "wird als Schrittzahl festgelegt und für jeden Schritt das entsprechende Partikelvolumen berechnet. Aus dem Volumenvektor $v_\\mathrm{p}$ wird ein zugehöriger Vektor für den Partikeldurchmesser $d_\\mathrm{p}$ erstellt."
   ]
  },
  {
   "cell_type": "code",
   "execution_count": 1,
   "id": "83db7e13",
   "metadata": {},
   "outputs": [],
   "source": [
    "import numpy as np\n",
    "import scipy.integrate\n",
    "from matplotlib import pyplot as plt\n",
    "\n",
    "dp_min = 0.5e-9                                          # m\n",
    "dp_max = 1000e-9                                         # m\n",
    "vp_min = np.pi * (dp_min)**3  /6                         # m^3\n",
    "vp_max = np.pi * (dp_max)**3  /6                         # m^3\n",
    "vp_num = int(np.log(vp_max / vp_min) // np.log(2) + 2)   # Schrittzahl\n",
    "vp = np.zeros((vp_num))                                  # Vektor Partikelgrößen\n",
    "for i in range(vp_num): \n",
    "    vp[i] = vp_min * 2**i                                # monodisperse Koagulation\n",
    "dp = ( 6 * vp/ np.pi)**(1/3.0)                           # Zugehöriger Vektor für Durchmesser"
   ]
  },
  {
   "cell_type": "markdown",
   "id": "51236964",
   "metadata": {},
   "source": [
    "Des Weiteren werden Volumenstrom und Reaktorvolumen definiert, woraus die Verweilzeit berechnet wird sowie der Anfangswert der DGL."
   ]
  },
  {
   "cell_type": "code",
   "execution_count": 2,
   "id": "079109da",
   "metadata": {},
   "outputs": [],
   "source": [
    "#Verweilzeit\n",
    "Q = 0.5        # m^3/s      Volumenstrom\n",
    "#B = 1          # m^3        Reaktorvolumen \n",
    "B =  1.6598619838075238e-10 #aus Aufgabe 3\n",
    "tau = B/Q      # s          Verweilzeit\n",
    "\n",
    "#Startwerte\n",
    "N_0 = 1e17     # 1/m^3\n",
    "y0 = [N_0/tau] # 1/(m^3 s)\n",
    "\n",
    "A = 1e-1       # m^(2/3)    für Berechnung von q(v)"
   ]
  },
  {
   "cell_type": "markdown",
   "id": "a6c401da",
   "metadata": {},
   "source": [
    "### Funktionen"
   ]
  },
  {
   "cell_type": "markdown",
   "id": "3bb1e3f0",
   "metadata": {},
   "source": [
    "Abhängig von entsprechenden Variablen, werden mehrere Funktionen erstellt, die bei der anschließenden Berechnung aufgerufen werden.<br>\n",
    "Zunächst wird eine Funktion für die Berechnung von $q$ definiert. Anschließend werden die analytische Lösung aus Gleichung [3](#mjx-eqn-eq:Loesung_an) sowie die DGL in Gleichung [2](#mjx-eqn-eq:DGL) für die numerische Lösung in jeweils eine Funktion geschrieben.<br>\n",
    "Um einen Solver für gewöhnliche DGL verwenden zu können, werden die Variablen $n$ und $q$ zunächst als eine Variable $nq$ zusammengefasst. Da Gleichung [2](#mjx-eqn-eq:DGL) ein nicht mit $q$ multipliziertes $n$ enthält, wird ein $n = nq/q$ definiert. Des Weiteren wird berücksichtigt, dass $N_0$ die Konzentration der Anfangspartikel mit der Größe $v_\\mathrm{p, min}$ ist und somit für alle anderen Partikelgrößen gleich null ist.<br>\n",
    "Um den mittleren Partikeldurchmesser einer Verteilung über\n",
    "\n",
    "$$\n",
    "d_{\\mathrm{p, avg}} = \\frac{\\sum^i n_i \\cdot d_{\\mathrm{p, }i}}{\\sum^i n_i}\n",
    "\\label{eq:dp_avg}\\tag{5}\n",
    "$$\n",
    "\n",
    "zu bestimmen, wird ebenfalls eine Funktion erstellt."
   ]
  },
  {
   "cell_type": "code",
   "execution_count": 3,
   "id": "19b7b7de",
   "metadata": {},
   "outputs": [],
   "source": [
    "def fun_q(v): \n",
    "    return A * v **(1/3)\n",
    "\n",
    "#Analytische Lösung:\n",
    "def an_n(v):\n",
    "    return (1/(A * v**(1/3.0))) * np.exp(\n",
    "            (3/2.0) * (vp_min**(2/3.0) - v**(2/3.0))/(A * tau)\n",
    "            ) * (N_0 / tau)\n",
    "\n",
    "#DGL für numerische Lösung:\n",
    "def dnqdv(v, nq):\n",
    "    q = fun_q(v)\n",
    "    n = nq/q\n",
    "    if v > vp_min:\n",
    "        dnqdv = - n/tau\n",
    "    elif v == vp_min:\n",
    "        dnqdv = N_0/tau - n/tau     \n",
    "    return dnqdv\n",
    "\n",
    "#Mittlerer Partikeldurchmesser\n",
    "def dp_avg(n, dp):\n",
    "    return np.sum(n * dp) / np.sum(n)"
   ]
  },
  {
   "cell_type": "markdown",
   "id": "0fffe7a5",
   "metadata": {},
   "source": [
    "## Analytische Lösung"
   ]
  },
  {
   "cell_type": "markdown",
   "id": "bfafba1a",
   "metadata": {},
   "source": [
    "Um die analytische Lösung zu berechnen, wird der Vektor mit den festgelegten Partikelgrößen an die Funktion mit der analytischen Lösung der DGL gegeben. Daraus wird der durchschnittliche Partikeldurchmesser berechnet und ausgegeben."
   ]
  },
  {
   "cell_type": "code",
   "execution_count": 4,
   "id": "22365a07",
   "metadata": {},
   "outputs": [
    {
     "name": "stdout",
     "output_type": "stream",
     "text": [
      "Analytisch: dp_avg = 3.500000316157969e-09 at B = 1.6598619838075238e-10 m^3, tau = 3.3197239676150475e-10 s\n"
     ]
    }
   ],
   "source": [
    "n_an = an_n(vp)\n",
    "dp_av = dp_avg(n_an, dp)\n",
    "print(f'Analytisch: dp_avg = {dp_av} at B = {B} m^3, tau = {tau} s')\n"
   ]
  },
  {
   "cell_type": "markdown",
   "id": "d97c17a9",
   "metadata": {},
   "source": [
    "## Numerische Lösung"
   ]
  },
  {
   "cell_type": "markdown",
   "id": "b36d233a",
   "metadata": {},
   "source": [
    "Um eine stabile, numerische Lösung zu erhalten, muss die DGL für jeden Teilschritt zwischen zwei Partikelgrößen gelöst werden. $\\richtig?$\n",
    "Verwendet werden soll der Solver _solve_ivp_ aus der Datenbank _scipy.integrate_. Zunächst werden als Optionen die Toleranzen gespeichert. Anschließend werden zwei leere Listen erstellt, in denen die Lösung für nq bzw. die zugehörigen Partikelvolumina gespeichert werden sollen. Vom Volumenvektor wird eine Kopie erstellt, die in jedem Integrationsschritt auf zwei, als Integrationsgrenzen dienende, Werte gekürzt wird. "
   ]
  },
  {
   "cell_type": "code",
   "execution_count": 5,
   "id": "a2fb1d6c",
   "metadata": {},
   "outputs": [],
   "source": [
    "options = {'rtol': 1e-12, #Toleranzen\n",
    "           'atol': 1e-12}\n",
    "res_nq_list = []          # Leere Liste für Lösung nq\n",
    "res_v_list = []           # Leere Liste für zugehörige Partikelvolumina\n",
    "vpn = vp.copy()           # Volumenvektor\n",
    "vp_min_n = vp_min         # Laufvariable: untere Integrationsgrenze, beginnend bei vp_min\n",
    "rv = 0.0                  # Laufvariable der Schleife mit Startwert 0.0"
   ]
  },
  {
   "cell_type": "markdown",
   "id": "d4cfbdc4",
   "metadata": {},
   "source": [
    "Die DGL wird in einer while-Schleife durch die Partikelvolumina gelöst. Zu Beginn wird der Integrationsbereich vom kleinsten Partikelvolumen bzw. der oberen Grenze des letzten Integrationsschrittes bis zum nächstgrößeren Partikelvolumen festgelegt.\n",
    "An den Solver wird die Funktion mit der DGL, der Integrationsbereich und der Startwert übergeben. Außerdem wird die Methode LSODA gewählt und die zuvor definierten Integrationstoleranzen angegeben.\n",
    "\n",
    "Die Lösung wird an die zuvor erstellten Listen übergeben. Für den nächsten Integrationsschritt wird das größte Partikelvolumen dieses Schrittes als nächste untere Integrationsgenze und neuer Wert der Laufvariable der Schleife gewählt. Die letzte Lösung der DGL wird der neue Anfangswert."
   ]
  },
  {
   "cell_type": "code",
   "execution_count": 6,
   "id": "9c5531f3",
   "metadata": {},
   "outputs": [],
   "source": [
    "while rv < (vp_max * 0.99):\n",
    "    # Festlegung Integrationsgrenzen und Lösung DGL\n",
    "    vpn = [vpn[0], vpn[1]]\n",
    "    res = scipy.integrate.solve_ivp(dnqdv, vpn, y0, method='LSODA', **options)\n",
    "\n",
    "    # Ergebnis für nq und zugehöriges v in Listen \n",
    "    res_nq = res.y[0]\n",
    "    res_v = res.t\n",
    "    res_nq_list.extend(list(res_nq))\n",
    "    res_v_list.extend(list(res_v))\n",
    "    \n",
    "    #Jeweils letzter Wert dieses Schrittes wird erster Wert des nächsten Schrittes\n",
    "    vp_min_n = res_v[-1] \n",
    "    vpn = vp.copy()                 # Neuer Volumenvektor\n",
    "    for i in range(vp_num): \n",
    "        vpn[i] = vp_min_n * 2**i \n",
    "    y0 = [res_nq[-1]]               # Neuer Startwert\n",
    "    rv = res_v[-1]                  # Neuer Wert der Laufvariable für Schleife"
   ]
  },
  {
   "cell_type": "markdown",
   "id": "b358d8d7",
   "metadata": {},
   "source": [
    "Nach Durchlaufen der Schleife werden die finale Lösung $n = nq/q$ sowie der mittlere Durchmesser berechnet."
   ]
  },
  {
   "cell_type": "code",
   "execution_count": 7,
   "id": "2841d23b",
   "metadata": {},
   "outputs": [
    {
     "name": "stdout",
     "output_type": "stream",
     "text": [
      "Numerisch: dp_av = 6.88980243264748e-09\n"
     ]
    }
   ],
   "source": [
    "#DGL wurde für nq als eine Variable gelöst, deshalb muss Lösung noch durch q(v) geteilt werden\n",
    "res_nq = np.array(res_nq_list)\n",
    "res_v = np.array(res_v_list)\n",
    "q_sol = A * res_v **(1/3.0)\n",
    "res_n = res_nq / q_sol              # n = nq/q\n",
    "\n",
    "#Umrechnung in dp und Berechnung Mittelwert\n",
    "res_dp = ( 6 * res_v/ np.pi)**(1/3.0)\n",
    "dp_av = dp_avg(res_n, res_dp)\n",
    "print(f'Numerisch: dp_av = {dp_av}')\n",
    "\n",
    "if vp_min > res_v[0]:\n",
    "    print('Fehler: vp_min unterschritten!')\n"
   ]
  },
  {
   "cell_type": "markdown",
   "id": "82b1638e",
   "metadata": {},
   "source": [
    "## Ergebnisse"
   ]
  },
  {
   "cell_type": "markdown",
   "id": "f3f3c202",
   "metadata": {},
   "source": [
    "Abschließend werden beide Lösungen sowie der mittlere Durchmesser graphisch dargestellt."
   ]
  },
  {
   "cell_type": "code",
   "execution_count": 8,
   "id": "119b52ed",
   "metadata": {},
   "outputs": [
    {
     "data": {
      "text/plain": [
       "<matplotlib.legend.Legend at 0x1a4a3723910>"
      ]
     },
     "execution_count": 8,
     "metadata": {},
     "output_type": "execute_result"
    },
    {
     "data": {
      "image/png": "[encoded data removed]",
      "text/plain": [
       "<Figure size 432x288 with 1 Axes>"
      ]
     },
     "metadata": {
      "needs_background": "light"
     },
     "output_type": "display_data"
    }
   ],
   "source": [
    "fig, ax = plt.subplots()\n",
    "plt.semilogx(dp, an_n(vp), label=f'Analytical solution $n(v)$, tau = {tau}')\n",
    "plt.semilogx(res_dp, res_n, '--', label=f'Numerical solution $n(v)$, tau = {tau}')\n",
    "plt.semilogx([dp_av, dp_av], [np.min(an_n(vp)), np.max(an_n(vp))], label='Number average particle diameter')\n",
    "plt.ylabel(r'$n(v)$ in #/m$^3$')\n",
    "plt.xlabel(r'$d_p$ particle diameter in m')\n",
    "plt.legend()\n"
   ]
  }
 ],
 "metadata": {
  "kernelspec": {
   "display_name": "Python 3 (ipykernel)",
   "language": "python",
   "name": "python3"
  },
  "language_info": {
   "codemirror_mode": {
    "name": "ipython",
    "version": 3
   },
   "file_extension": ".py",
   "mimetype": "text/x-python",
   "name": "python",
   "nbconvert_exporter": "python",
   "pygments_lexer": "ipython3",
   "version": "3.10.4"
  }
 },
 "nbformat": 4,
 "nbformat_minor": 5
}
